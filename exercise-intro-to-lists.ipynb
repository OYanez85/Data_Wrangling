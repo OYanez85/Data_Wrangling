{
 "cells": [
  {
   "cell_type": "markdown",
   "id": "6aec0d7b",
   "metadata": {
    "papermill": {
     "duration": 0.005864,
     "end_time": "2024-02-16T08:49:43.609588",
     "exception": false,
     "start_time": "2024-02-16T08:49:43.603724",
     "status": "completed"
    },
    "tags": []
   },
   "source": [
    "**This notebook is an exercise in the [Intro to Programming](https://www.kaggle.com/learn/intro-to-programming) course.  You can reference the tutorial at [this link](https://www.kaggle.com/alexisbcook/intro-to-lists).**\n",
    "\n",
    "---\n"
   ]
  },
  {
   "cell_type": "markdown",
   "id": "15fed9ef",
   "metadata": {
    "papermill": {
     "duration": 0.005003,
     "end_time": "2024-02-16T08:49:43.619917",
     "exception": false,
     "start_time": "2024-02-16T08:49:43.614914",
     "status": "completed"
    },
    "tags": []
   },
   "source": [
    "In the tutorial, you learned how to define and modify Python lists.  In this exercise, you will use your new knowledge to solve several problems.\n",
    "\n",
    "# Set up the notebook\n",
    "\n",
    "Run the next code cell without changes to set up the notebook."
   ]
  },
  {
   "cell_type": "code",
   "execution_count": 1,
   "id": "cef0cffb",
   "metadata": {
    "execution": {
     "iopub.execute_input": "2024-02-16T08:49:43.632509Z",
     "iopub.status.busy": "2024-02-16T08:49:43.631411Z",
     "iopub.status.idle": "2024-02-16T08:49:44.442588Z",
     "shell.execute_reply": "2024-02-16T08:49:44.441375Z"
    },
    "papermill": {
     "duration": 0.819667,
     "end_time": "2024-02-16T08:49:44.444691",
     "exception": false,
     "start_time": "2024-02-16T08:49:43.625024",
     "status": "completed"
    },
    "tags": []
   },
   "outputs": [
    {
     "name": "stdout",
     "output_type": "stream",
     "text": [
      "Setup complete.\n"
     ]
    }
   ],
   "source": [
    "from learntools.core import binder\n",
    "binder.bind(globals())\n",
    "from learntools.intro_to_programming.ex5 import *\n",
    "print('Setup complete.')"
   ]
  },
  {
   "cell_type": "markdown",
   "id": "2c548003",
   "metadata": {
    "papermill": {
     "duration": 0.00496,
     "end_time": "2024-02-16T08:49:44.455155",
     "exception": false,
     "start_time": "2024-02-16T08:49:44.450195",
     "status": "completed"
    },
    "tags": []
   },
   "source": [
    "# Question 1\n",
    "\n",
    "You own a restaurant with five food dishes, organized in the Python list `menu` below.  One day, you decide to:\n",
    "- remove bean soup (`'bean soup'`) from the menu, and\n",
    "- add roasted beet salad (`'roasted beet salad'`) to the menu.\n",
    "\n",
    "Implement this change to the list below.  While completing this task, \n",
    "- do not change the line that creates the `menu` list.  \n",
    "- your answer should use `.remove()` and `.append()`.  "
   ]
  },
  {
   "cell_type": "code",
   "execution_count": 2,
   "id": "06240132",
   "metadata": {
    "execution": {
     "iopub.execute_input": "2024-02-16T08:49:44.468765Z",
     "iopub.status.busy": "2024-02-16T08:49:44.468270Z",
     "iopub.status.idle": "2024-02-16T08:49:44.479669Z",
     "shell.execute_reply": "2024-02-16T08:49:44.478382Z"
    },
    "papermill": {
     "duration": 0.021242,
     "end_time": "2024-02-16T08:49:44.481495",
     "exception": false,
     "start_time": "2024-02-16T08:49:44.460253",
     "status": "completed"
    },
    "tags": []
   },
   "outputs": [
    {
     "name": "stdout",
     "output_type": "stream",
     "text": [
      "['stewed meat with onions', 'risotto with trout and shrimp', 'fish soup with cream and onion', 'gyro', 'roasted beet salad']\n"
     ]
    },
    {
     "data": {
      "application/javascript": [
       "parent.postMessage({\"jupyterEvent\": \"custom.exercise_interaction\", \"data\": {\"outcomeType\": 1, \"valueTowardsCompletion\": 0.2, \"interactionType\": 1, \"questionType\": 2, \"questionId\": \"1_FoodMenu\", \"learnToolsVersion\": \"0.3.4\", \"failureMessage\": \"\", \"exceptionClass\": \"\", \"trace\": \"\"}}, \"*\")"
      ],
      "text/plain": [
       "<IPython.core.display.Javascript object>"
      ]
     },
     "metadata": {},
     "output_type": "display_data"
    },
    {
     "data": {
      "text/markdown": [
       "<span style=\"color:#33cc33\">Correct</span>"
      ],
      "text/plain": [
       "Correct"
      ]
     },
     "metadata": {},
     "output_type": "display_data"
    }
   ],
   "source": [
    "# Do not change: Initial menu for your restaurant\n",
    "menu = ['stewed meat with onions', 'bean soup', 'risotto with trout and shrimp',\n",
    "       'fish soup with cream and onion', 'gyro']\n",
    "\n",
    "# TODO: remove 'bean soup', and add 'roasted beet salad' to the end of the menu\n",
    "menu.remove(\"bean soup\")\n",
    "#print(menu)\n",
    "\n",
    "menu.append(\"roasted beet salad\")\n",
    "print(menu)\n",
    "\n",
    "# Do not change: Check your answer\n",
    "q1.check()"
   ]
  },
  {
   "cell_type": "code",
   "execution_count": 3,
   "id": "a4ee4d43",
   "metadata": {
    "execution": {
     "iopub.execute_input": "2024-02-16T08:49:44.494249Z",
     "iopub.status.busy": "2024-02-16T08:49:44.493933Z",
     "iopub.status.idle": "2024-02-16T08:49:44.497596Z",
     "shell.execute_reply": "2024-02-16T08:49:44.496638Z"
    },
    "papermill": {
     "duration": 0.012056,
     "end_time": "2024-02-16T08:49:44.499260",
     "exception": false,
     "start_time": "2024-02-16T08:49:44.487204",
     "status": "completed"
    },
    "tags": []
   },
   "outputs": [],
   "source": [
    "# Uncomment to see a hint\n",
    "#q1.hint()\n",
    "\n",
    "# Uncomment to see the solution\n",
    "#q1.solution()"
   ]
  },
  {
   "cell_type": "markdown",
   "id": "9a0ff116",
   "metadata": {
    "papermill": {
     "duration": 0.006234,
     "end_time": "2024-02-16T08:49:44.511536",
     "exception": false,
     "start_time": "2024-02-16T08:49:44.505302",
     "status": "completed"
    },
    "tags": []
   },
   "source": [
    "# Question 2\n",
    "\n",
    "The list `num_customers` contains the number of customers who came into your restaurant every day over the last month (which lasted thirty days).  Fill in values for each of the following:\n",
    "- `avg_first_seven` - average number of customers who visited in the first seven days\n",
    "- `avg_last_seven` - average number of customers who visited in the last seven days\n",
    "- `max_month` - number of customers on the day that got the most customers in the last month\n",
    "- `min_month` - number of customers on the day that got the least customers in the last month\n",
    "\n",
    "Answer this question by writing code.  For instance, if you have to find the minimum value in a list, use `min()` instead of scanning for the smallest value and directly filling in a number."
   ]
  },
  {
   "cell_type": "code",
   "execution_count": 4,
   "id": "ae4c1f5d",
   "metadata": {
    "execution": {
     "iopub.execute_input": "2024-02-16T08:49:44.524786Z",
     "iopub.status.busy": "2024-02-16T08:49:44.524466Z",
     "iopub.status.idle": "2024-02-16T08:49:44.535600Z",
     "shell.execute_reply": "2024-02-16T08:49:44.534665Z"
    },
    "papermill": {
     "duration": 0.019957,
     "end_time": "2024-02-16T08:49:44.537447",
     "exception": false,
     "start_time": "2024-02-16T08:49:44.517490",
     "status": "completed"
    },
    "tags": []
   },
   "outputs": [
    {
     "name": "stdout",
     "output_type": "stream",
     "text": [
      "Length of the list: 30\n",
      "Average customers in first seven days: 150.85714285714286\n",
      "Average customers in last seven days: 157\n",
      "Maximum: 174\n",
      "Minimum: 126\n"
     ]
    },
    {
     "data": {
      "application/javascript": [
       "parent.postMessage({\"jupyterEvent\": \"custom.exercise_interaction\", \"data\": {\"outcomeType\": 1, \"valueTowardsCompletion\": 0.2, \"interactionType\": 1, \"questionType\": 1, \"questionId\": \"2_NumCustomers\", \"learnToolsVersion\": \"0.3.4\", \"failureMessage\": \"\", \"exceptionClass\": \"\", \"trace\": \"\"}}, \"*\")"
      ],
      "text/plain": [
       "<IPython.core.display.Javascript object>"
      ]
     },
     "metadata": {},
     "output_type": "display_data"
    },
    {
     "data": {
      "text/markdown": [
       "<span style=\"color:#33cc33\">Correct</span>"
      ],
      "text/plain": [
       "Correct"
      ]
     },
     "metadata": {},
     "output_type": "display_data"
    }
   ],
   "source": [
    "import math\n",
    "\n",
    "# Correctly define num_customers\n",
    "num_customers = [137, 147, 135, 128, 170, 174, 165, 146, 126, 159,\n",
    "                 141, 148, 132, 147, 168, 153, 170, 161, 148, 152,\n",
    "                 141, 151, 131, 149, 164, 163, 143, 143, 166, 171]\n",
    "\n",
    "print(\"Length of the list:\", len(num_customers))\n",
    "\n",
    "# Calculate averages correctly\n",
    "avg_first_seven = sum(num_customers[:7]) / 7\n",
    "avg_last_seven = math.ceil(sum(num_customers[-7:]) / 7)  # Correct slicing for the last 7 days\n",
    "\n",
    "# Find maximum and minimum\n",
    "max_month = max(num_customers)\n",
    "min_month = min(num_customers)\n",
    "\n",
    "# Correctly print the calculated values\n",
    "print(\"Average customers in first seven days:\", avg_first_seven)\n",
    "print(\"Average customers in last seven days:\", avg_last_seven)\n",
    "print(\"Maximum:\", max_month)\n",
    "print(\"Minimum:\", min_month)\n",
    "\n",
    "\n",
    "# Do not change: Check your answer\n",
    "q2.check()"
   ]
  },
  {
   "cell_type": "code",
   "execution_count": 5,
   "id": "520cd3e6",
   "metadata": {
    "execution": {
     "iopub.execute_input": "2024-02-16T08:49:44.551257Z",
     "iopub.status.busy": "2024-02-16T08:49:44.550949Z",
     "iopub.status.idle": "2024-02-16T08:49:44.554597Z",
     "shell.execute_reply": "2024-02-16T08:49:44.553814Z"
    },
    "papermill": {
     "duration": 0.012131,
     "end_time": "2024-02-16T08:49:44.556220",
     "exception": false,
     "start_time": "2024-02-16T08:49:44.544089",
     "status": "completed"
    },
    "tags": []
   },
   "outputs": [],
   "source": [
    "# Uncomment to see a hint\n",
    "#q2.hint()\n",
    "\n",
    "# Uncomment to see the solution\n",
    "#q2.solution()"
   ]
  },
  {
   "cell_type": "markdown",
   "id": "fe6c9643",
   "metadata": {
    "papermill": {
     "duration": 0.006204,
     "end_time": "2024-02-16T08:49:44.568395",
     "exception": false,
     "start_time": "2024-02-16T08:49:44.562191",
     "status": "completed"
    },
    "tags": []
   },
   "source": [
    "# Question 3\n",
    "\n",
    "In the tutorial, we gave an example of a Python string with information that was better as a list."
   ]
  },
  {
   "cell_type": "code",
   "execution_count": 6,
   "id": "c2c93db8",
   "metadata": {
    "execution": {
     "iopub.execute_input": "2024-02-16T08:49:44.582416Z",
     "iopub.status.busy": "2024-02-16T08:49:44.582091Z",
     "iopub.status.idle": "2024-02-16T08:49:44.586454Z",
     "shell.execute_reply": "2024-02-16T08:49:44.585338Z"
    },
    "papermill": {
     "duration": 0.013371,
     "end_time": "2024-02-16T08:49:44.588314",
     "exception": false,
     "start_time": "2024-02-16T08:49:44.574943",
     "status": "completed"
    },
    "tags": []
   },
   "outputs": [],
   "source": [
    "flowers = \"pink primrose,hard-leaved pocket orchid,canterbury bells,sweet pea,english marigold,tiger lily,moon orchid,bird of paradise,monkshood,globe thistle\""
   ]
  },
  {
   "cell_type": "markdown",
   "id": "374a2c9e",
   "metadata": {
    "papermill": {
     "duration": 0.005759,
     "end_time": "2024-02-16T08:49:44.600600",
     "exception": false,
     "start_time": "2024-02-16T08:49:44.594841",
     "status": "completed"
    },
    "tags": []
   },
   "source": [
    "You can actually use Python to quickly turn this string into a list with `.split()`.  In the parentheses, we need to provide the character should be used to mark the end of one list item and the beginning of another, and enclose it in quotation marks.  In this case, that character is a comma."
   ]
  },
  {
   "cell_type": "code",
   "execution_count": 7,
   "id": "fc24d774",
   "metadata": {
    "execution": {
     "iopub.execute_input": "2024-02-16T08:49:44.613729Z",
     "iopub.status.busy": "2024-02-16T08:49:44.613371Z",
     "iopub.status.idle": "2024-02-16T08:49:44.618098Z",
     "shell.execute_reply": "2024-02-16T08:49:44.617236Z"
    },
    "papermill": {
     "duration": 0.013798,
     "end_time": "2024-02-16T08:49:44.620192",
     "exception": false,
     "start_time": "2024-02-16T08:49:44.606394",
     "status": "completed"
    },
    "tags": []
   },
   "outputs": [
    {
     "name": "stdout",
     "output_type": "stream",
     "text": [
      "['pink primrose', 'hard-leaved pocket orchid', 'canterbury bells', 'sweet pea', 'english marigold', 'tiger lily', 'moon orchid', 'bird of paradise', 'monkshood', 'globe thistle']\n"
     ]
    }
   ],
   "source": [
    " print(flowers.split(\",\"))"
   ]
  },
  {
   "cell_type": "markdown",
   "id": "8f0a3086",
   "metadata": {
    "papermill": {
     "duration": 0.006122,
     "end_time": "2024-02-16T08:49:44.632809",
     "exception": false,
     "start_time": "2024-02-16T08:49:44.626687",
     "status": "completed"
    },
    "tags": []
   },
   "source": [
    "Now it is your turn to try this out!  Create two Python lists:\n",
    "- `letters` should be a Python list where each entry is an uppercase letter of the English alphabet.  For instance, the first two entries should be `\"A\"` and `\"B\"`, and the final two entries should be `\"Y\"` and `\"Z\"`.  Use the string `alphabet` to create this list.\n",
    "- `address` should be a Python list where each row in `address` is a different item in the list.  Currently, each row in `address` is separated by a comma. "
   ]
  },
  {
   "cell_type": "code",
   "execution_count": 8,
   "id": "6f94859a",
   "metadata": {
    "execution": {
     "iopub.execute_input": "2024-02-16T08:49:44.646605Z",
     "iopub.status.busy": "2024-02-16T08:49:44.646250Z",
     "iopub.status.idle": "2024-02-16T08:49:44.654905Z",
     "shell.execute_reply": "2024-02-16T08:49:44.653704Z"
    },
    "papermill": {
     "duration": 0.017786,
     "end_time": "2024-02-16T08:49:44.656743",
     "exception": false,
     "start_time": "2024-02-16T08:49:44.638957",
     "status": "completed"
    },
    "tags": []
   },
   "outputs": [
    {
     "name": "stdout",
     "output_type": "stream",
     "text": [
      "Alphabet: ['A', 'B', 'C', 'D', 'E', 'F', 'G', 'H', 'I', 'J', 'K', 'L', 'M', 'N', 'O', 'P', 'Q', 'R', 'S', 'T', 'U', 'V', 'W', 'X', 'Y', 'Z']\n",
      "Address: ['Mr. H. Potter', 'The cupboard under the Stairs', '4 Privet Drive', 'Little Whinging', 'Surrey']\n"
     ]
    },
    {
     "data": {
      "application/javascript": [
       "parent.postMessage({\"jupyterEvent\": \"custom.exercise_interaction\", \"data\": {\"outcomeType\": 1, \"valueTowardsCompletion\": 0.2, \"interactionType\": 1, \"questionType\": 1, \"questionId\": \"3_SplitString\", \"learnToolsVersion\": \"0.3.4\", \"failureMessage\": \"\", \"exceptionClass\": \"\", \"trace\": \"\"}}, \"*\")"
      ],
      "text/plain": [
       "<IPython.core.display.Javascript object>"
      ]
     },
     "metadata": {},
     "output_type": "display_data"
    },
    {
     "data": {
      "text/markdown": [
       "<span style=\"color:#33cc33\">Correct</span>"
      ],
      "text/plain": [
       "Correct"
      ]
     },
     "metadata": {},
     "output_type": "display_data"
    }
   ],
   "source": [
    "# DO not change: Define two Python strings\n",
    "alphabet = \"A.B.C.D.E.F.G.H.I.J.K.L.M.N.O.P.Q.R.S.T.U.V.W.X.Y.Z\"\n",
    "address = \"Mr. H. Potter,The cupboard under the Stairs,4 Privet Drive,Little Whinging,Surrey\"\n",
    "\n",
    "# TODO: Convert strings into Python lists\n",
    "letters = alphabet.split(\".\")\n",
    "formatted_address = address.split(\",\")\n",
    "\n",
    "print(\"Alphabet:\", letters)\n",
    "print(\"Address:\", formatted_address)\n",
    "\n",
    "# Do not change: Check your answer\n",
    "q3.check()"
   ]
  },
  {
   "cell_type": "code",
   "execution_count": 9,
   "id": "19fd0109",
   "metadata": {
    "execution": {
     "iopub.execute_input": "2024-02-16T08:49:44.671123Z",
     "iopub.status.busy": "2024-02-16T08:49:44.670836Z",
     "iopub.status.idle": "2024-02-16T08:49:44.679353Z",
     "shell.execute_reply": "2024-02-16T08:49:44.678308Z"
    },
    "papermill": {
     "duration": 0.01792,
     "end_time": "2024-02-16T08:49:44.681015",
     "exception": false,
     "start_time": "2024-02-16T08:49:44.663095",
     "status": "completed"
    },
    "tags": []
   },
   "outputs": [
    {
     "data": {
      "application/javascript": [
       "parent.postMessage({\"jupyterEvent\": \"custom.exercise_interaction\", \"data\": {\"interactionType\": 2, \"questionType\": 1, \"questionId\": \"3_SplitString\", \"learnToolsVersion\": \"0.3.4\", \"valueTowardsCompletion\": 0.0, \"failureMessage\": \"\", \"exceptionClass\": \"\", \"trace\": \"\", \"outcomeType\": 4}}, \"*\")"
      ],
      "text/plain": [
       "<IPython.core.display.Javascript object>"
      ]
     },
     "metadata": {},
     "output_type": "display_data"
    },
    {
     "data": {
      "text/markdown": [
       "<span style=\"color:#3366cc\">Hint:</span> In each case, you need to use `.split()`."
      ],
      "text/plain": [
       "Hint: In each case, you need to use `.split()`."
      ]
     },
     "metadata": {},
     "output_type": "display_data"
    },
    {
     "data": {
      "application/javascript": [
       "parent.postMessage({\"jupyterEvent\": \"custom.exercise_interaction\", \"data\": {\"interactionType\": 3, \"questionType\": 1, \"questionId\": \"3_SplitString\", \"learnToolsVersion\": \"0.3.4\", \"valueTowardsCompletion\": 0.0, \"failureMessage\": \"\", \"exceptionClass\": \"\", \"trace\": \"\", \"outcomeType\": 4}}, \"*\")"
      ],
      "text/plain": [
       "<IPython.core.display.Javascript object>"
      ]
     },
     "metadata": {},
     "output_type": "display_data"
    },
    {
     "data": {
      "text/markdown": [
       "<span style=\"color:#33cc99\">Solution:</span> \n",
       "```python\n",
       "letters = alphabet.split(\".\")\n",
       "formatted_address = address.split(\",\")\n",
       "\n",
       "```"
      ],
      "text/plain": [
       "Solution: \n",
       "```python\n",
       "letters = alphabet.split(\".\")\n",
       "formatted_address = address.split(\",\")\n",
       "\n",
       "```"
      ]
     },
     "metadata": {},
     "output_type": "display_data"
    }
   ],
   "source": [
    "#Uncomment to see a hint\n",
    "q3.hint()\n",
    "\n",
    "#Uncomment to see the solution\n",
    "q3.solution()"
   ]
  },
  {
   "cell_type": "markdown",
   "id": "e7990199",
   "metadata": {
    "papermill": {
     "duration": 0.006582,
     "end_time": "2024-02-16T08:49:44.694495",
     "exception": false,
     "start_time": "2024-02-16T08:49:44.687913",
     "status": "completed"
    },
    "tags": []
   },
   "source": [
    "# Question 4\n",
    "\n",
    "In the Python course, you'll learn all about **list comprehensions**, which allow you to create a list based on the values in another list.  In this question, you'll get a brief preview of how they work.\n",
    "\n",
    "Say we're working with the list below."
   ]
  },
  {
   "cell_type": "code",
   "execution_count": 10,
   "id": "8c468d73",
   "metadata": {
    "execution": {
     "iopub.execute_input": "2024-02-16T08:49:44.709933Z",
     "iopub.status.busy": "2024-02-16T08:49:44.709624Z",
     "iopub.status.idle": "2024-02-16T08:49:44.713699Z",
     "shell.execute_reply": "2024-02-16T08:49:44.712916Z"
    },
    "papermill": {
     "duration": 0.01444,
     "end_time": "2024-02-16T08:49:44.715923",
     "exception": false,
     "start_time": "2024-02-16T08:49:44.701483",
     "status": "completed"
    },
    "tags": []
   },
   "outputs": [],
   "source": [
    "test_ratings = [1, 2, 3, 4, 5]"
   ]
  },
  {
   "cell_type": "markdown",
   "id": "e5c44e17",
   "metadata": {
    "papermill": {
     "duration": 0.00638,
     "end_time": "2024-02-16T08:49:44.729636",
     "exception": false,
     "start_time": "2024-02-16T08:49:44.723256",
     "status": "completed"
    },
    "tags": []
   },
   "source": [
    "Then we can use this list (`test_ratings`) to create a new list (`test_liked`) where each item has been turned into a boolean, depending on whether or not the item is greater than or equal to four."
   ]
  },
  {
   "cell_type": "code",
   "execution_count": 11,
   "id": "a11271f1",
   "metadata": {
    "execution": {
     "iopub.execute_input": "2024-02-16T08:49:44.743896Z",
     "iopub.status.busy": "2024-02-16T08:49:44.743612Z",
     "iopub.status.idle": "2024-02-16T08:49:44.747144Z",
     "shell.execute_reply": "2024-02-16T08:49:44.746581Z"
    },
    "papermill": {
     "duration": 0.012665,
     "end_time": "2024-02-16T08:49:44.748713",
     "exception": false,
     "start_time": "2024-02-16T08:49:44.736048",
     "status": "completed"
    },
    "tags": []
   },
   "outputs": [
    {
     "name": "stdout",
     "output_type": "stream",
     "text": [
      "[False, False, False, True, True]\n"
     ]
    }
   ],
   "source": [
    "test_liked = [i>=4 for i in test_ratings]\n",
    "print(test_liked)"
   ]
  },
  {
   "cell_type": "markdown",
   "id": "2e2330bd",
   "metadata": {
    "papermill": {
     "duration": 0.006816,
     "end_time": "2024-02-16T08:49:44.762791",
     "exception": false,
     "start_time": "2024-02-16T08:49:44.755975",
     "status": "completed"
    },
    "tags": []
   },
   "source": [
    "In this question, you'll use this list comprehension to define a function `percentage_liked()` that takes one argument as input:\n",
    "- `ratings`: list of ratings that people gave to a movie, where each rating is a number between 1-5, inclusive\n",
    "\n",
    "We say someone liked the movie, if they gave a rating of either 4 or 5.  Your function should return the percentage of people who liked the movie.\n",
    "\n",
    "For instance, if we supply a value of `[1, 2, 3, 4, 5, 4, 5, 1]`, then 50% (4/8) of the people liked the movie, and the function should return `0.5`.\n",
    "\n",
    "Part of the function has already been completed for you.  You need only use `list_liked` to calculate `percentage_liked`."
   ]
  },
  {
   "cell_type": "code",
   "execution_count": 12,
   "id": "4d0be873",
   "metadata": {
    "execution": {
     "iopub.execute_input": "2024-02-16T08:49:44.778341Z",
     "iopub.status.busy": "2024-02-16T08:49:44.778014Z",
     "iopub.status.idle": "2024-02-16T08:49:44.786051Z",
     "shell.execute_reply": "2024-02-16T08:49:44.784953Z"
    },
    "papermill": {
     "duration": 0.017882,
     "end_time": "2024-02-16T08:49:44.787668",
     "exception": false,
     "start_time": "2024-02-16T08:49:44.769786",
     "status": "completed"
    },
    "tags": []
   },
   "outputs": [
    {
     "data": {
      "application/javascript": [
       "parent.postMessage({\"jupyterEvent\": \"custom.exercise_interaction\", \"data\": {\"outcomeType\": 1, \"valueTowardsCompletion\": 0.2, \"interactionType\": 1, \"questionType\": 2, \"questionId\": \"4_PercentageLiked\", \"learnToolsVersion\": \"0.3.4\", \"failureMessage\": \"\", \"exceptionClass\": \"\", \"trace\": \"\"}}, \"*\")"
      ],
      "text/plain": [
       "<IPython.core.display.Javascript object>"
      ]
     },
     "metadata": {},
     "output_type": "display_data"
    },
    {
     "data": {
      "text/markdown": [
       "<span style=\"color:#33cc33\">Correct</span>"
      ],
      "text/plain": [
       "Correct"
      ]
     },
     "metadata": {},
     "output_type": "display_data"
    }
   ],
   "source": [
    "\n",
    "def percentage_liked(ratings):\n",
    "    list_liked = [i>=4 for i in ratings]\n",
    "    # TODO: Complete the function\n",
    "    percentage_liked = sum(list_liked) / len(ratings)\n",
    "    return percentage_liked\n",
    "\n",
    "# Do not change: should return 0.5\n",
    "percentage_liked([1, 2, 3, 4, 5, 4, 5, 1])\n",
    "\n",
    "# Do not change: Check your answer\n",
    "q4.check()"
   ]
  },
  {
   "cell_type": "code",
   "execution_count": 13,
   "id": "fa534d8e",
   "metadata": {
    "execution": {
     "iopub.execute_input": "2024-02-16T08:49:44.803486Z",
     "iopub.status.busy": "2024-02-16T08:49:44.803175Z",
     "iopub.status.idle": "2024-02-16T08:49:44.806487Z",
     "shell.execute_reply": "2024-02-16T08:49:44.805906Z"
    },
    "papermill": {
     "duration": 0.013233,
     "end_time": "2024-02-16T08:49:44.808034",
     "exception": false,
     "start_time": "2024-02-16T08:49:44.794801",
     "status": "completed"
    },
    "tags": []
   },
   "outputs": [],
   "source": [
    "# Uncomment to see a hint\n",
    "#q4.hint()\n",
    "\n",
    "# Uncomment to see the solution\n",
    "#q4.solution()"
   ]
  },
  {
   "cell_type": "markdown",
   "id": "78ce2cb0",
   "metadata": {
    "papermill": {
     "duration": 0.006543,
     "end_time": "2024-02-16T08:49:44.821784",
     "exception": false,
     "start_time": "2024-02-16T08:49:44.815241",
     "status": "completed"
    },
    "tags": []
   },
   "source": [
    "# 🌶️ Question 5\n",
    " \n",
    "Say you're doing analytics for a website.  You need to write a function that returns the percentage growth in the total number of users relative to a specified number of years ago.\n",
    "\n",
    "Your function `percentage_growth()` should take two arguments as input:\n",
    "- `num_users` = Python list with the total number of users each year.  So `num_users[0]` is the total number of users in the first year, `num_users[1]` is the total number of users in the second year, and so on.  The final entry in the list gives the total number of users in the most recently completed year.\n",
    "- `yrs_ago` = number of years to go back in time when calculating the growth percentage\n",
    "\n",
    "For instance, say `num_users = [920344, 1043553, 1204334, 1458996, 1503323, 1593432, 1623463, 1843064, 1930992, 2001078]`.\n",
    "- if `yrs_ago = 1`, we want the function to return a value of about `0.036`. This corresponds to a percentage growth of approximately 3.6%, calculated as (2001078 - 1930992)/1930992.\n",
    "- if `years_ago = 7`, we would want to return approximately `0.66`.  This corresponds to a percentage growth of approximately 66%, calculated as (2001078 - 1204334)/1204334.\n",
    "\n",
    "Your coworker sent you a draft of a function, but it doesn't seem to be doing the correct calculation.  Can you figure out what has gone wrong and make the needed changes?"
   ]
  },
  {
   "cell_type": "code",
   "execution_count": 14,
   "id": "d365460a",
   "metadata": {
    "execution": {
     "iopub.execute_input": "2024-02-16T08:49:44.836745Z",
     "iopub.status.busy": "2024-02-16T08:49:44.836456Z",
     "iopub.status.idle": "2024-02-16T08:49:44.845731Z",
     "shell.execute_reply": "2024-02-16T08:49:44.844722Z"
    },
    "papermill": {
     "duration": 0.018959,
     "end_time": "2024-02-16T08:49:44.847459",
     "exception": false,
     "start_time": "2024-02-16T08:49:44.828500",
     "status": "completed"
    },
    "tags": []
   },
   "outputs": [
    {
     "name": "stdout",
     "output_type": "stream",
     "text": [
      "0.03629533421163837\n",
      "0.6615639847417742\n"
     ]
    },
    {
     "data": {
      "application/javascript": [
       "parent.postMessage({\"jupyterEvent\": \"custom.exercise_interaction\", \"data\": {\"outcomeType\": 1, \"valueTowardsCompletion\": 0.2, \"interactionType\": 1, \"questionType\": 2, \"questionId\": \"5_WebsiteAnalytics\", \"learnToolsVersion\": \"0.3.4\", \"failureMessage\": \"\", \"exceptionClass\": \"\", \"trace\": \"\"}}, \"*\")"
      ],
      "text/plain": [
       "<IPython.core.display.Javascript object>"
      ]
     },
     "metadata": {},
     "output_type": "display_data"
    },
    {
     "data": {
      "text/markdown": [
       "<span style=\"color:#33cc33\">Correct</span>"
      ],
      "text/plain": [
       "Correct"
      ]
     },
     "metadata": {},
     "output_type": "display_data"
    }
   ],
   "source": [
    "# TODO: Edit the function\n",
    "def percentage_growth(num_users, yrs_ago):\n",
    "    growth = (num_users[-1] - num_users[-1 - yrs_ago]) / num_users[-1 - yrs_ago]\n",
    "    return growth\n",
    "\n",
    "# Do not change: Variable for calculating some test examples\n",
    "num_users_test = [920344, 1043553, 1204334, 1458996, 1503323, 1593432, 1623463, 1843064, 1930992, 2001078]\n",
    "\n",
    "# Do not change: Should return .036\n",
    "print(percentage_growth(num_users_test, 1))\n",
    "\n",
    "# Do not change: Should return 0.66\n",
    "print(percentage_growth(num_users_test, 7))\n",
    "\n",
    "# Do not change: Check your answer\n",
    "q5.check()"
   ]
  },
  {
   "cell_type": "code",
   "execution_count": 15,
   "id": "c4eaa307",
   "metadata": {
    "execution": {
     "iopub.execute_input": "2024-02-16T08:49:44.863106Z",
     "iopub.status.busy": "2024-02-16T08:49:44.862825Z",
     "iopub.status.idle": "2024-02-16T08:49:44.865997Z",
     "shell.execute_reply": "2024-02-16T08:49:44.865244Z"
    },
    "papermill": {
     "duration": 0.013243,
     "end_time": "2024-02-16T08:49:44.867976",
     "exception": false,
     "start_time": "2024-02-16T08:49:44.854733",
     "status": "completed"
    },
    "tags": []
   },
   "outputs": [],
   "source": [
    "# Uncomment to see a hint\n",
    "#q5.hint()\n",
    "\n",
    "# Uncomment to see the solution\n",
    "#q5.solution()"
   ]
  },
  {
   "cell_type": "markdown",
   "id": "e3fd3b9c",
   "metadata": {
    "papermill": {
     "duration": 0.007795,
     "end_time": "2024-02-16T08:49:44.883651",
     "exception": false,
     "start_time": "2024-02-16T08:49:44.875856",
     "status": "completed"
    },
    "tags": []
   },
   "source": [
    "# Congratulations!\n",
    "\n",
    "Congratulations for finishing the Intro to Programming course!  You should be proud of your very first steps with learning programming.  As next steps, we recommend taking:\n",
    "- the **[Python course](http://www.kaggle.com/learn/python)**, and \n",
    "- the **[Intro to Machine Learning course](https://www.kaggle.com/learn/intro-to-machine-learning)**."
   ]
  },
  {
   "cell_type": "markdown",
   "id": "7af285eb",
   "metadata": {
    "papermill": {
     "duration": 0.007113,
     "end_time": "2024-02-16T08:49:44.898301",
     "exception": false,
     "start_time": "2024-02-16T08:49:44.891188",
     "status": "completed"
    },
    "tags": []
   },
   "source": [
    "---\n",
    "\n",
    "\n",
    "\n",
    "\n",
    "*Have questions or comments? Visit the [course discussion forum](https://www.kaggle.com/learn/intro-to-programming/discussion) to chat with other learners.*"
   ]
  }
 ],
 "metadata": {
  "kaggle": {
   "accelerator": "none",
   "dataSources": [],
   "isGpuEnabled": false,
   "isInternetEnabled": false,
   "language": "python",
   "sourceType": "notebook"
  },
  "kernelspec": {
   "display_name": "Python 3",
   "language": "python",
   "name": "python3"
  },
  "language_info": {
   "codemirror_mode": {
    "name": "ipython",
    "version": 3
   },
   "file_extension": ".py",
   "mimetype": "text/x-python",
   "name": "python",
   "nbconvert_exporter": "python",
   "pygments_lexer": "ipython3",
   "version": "3.10.13"
  },
  "papermill": {
   "default_parameters": {},
   "duration": 4.398706,
   "end_time": "2024-02-16T08:49:45.323967",
   "environment_variables": {},
   "exception": null,
   "input_path": "__notebook__.ipynb",
   "output_path": "__notebook__.ipynb",
   "parameters": {},
   "start_time": "2024-02-16T08:49:40.925261",
   "version": "2.5.0"
  }
 },
 "nbformat": 4,
 "nbformat_minor": 5
}
