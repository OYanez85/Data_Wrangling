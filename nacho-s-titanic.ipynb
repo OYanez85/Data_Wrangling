{
 "cells": [
  {
   "cell_type": "code",
   "execution_count": 1,
   "id": "a6e4a894",
   "metadata": {
    "execution": {
     "iopub.execute_input": "2024-05-01T17:26:16.647054Z",
     "iopub.status.busy": "2024-05-01T17:26:16.646259Z",
     "iopub.status.idle": "2024-05-01T17:26:20.299874Z",
     "shell.execute_reply": "2024-05-01T17:26:20.298491Z"
    },
    "papermill": {
     "duration": 3.666472,
     "end_time": "2024-05-01T17:26:20.303267",
     "exception": false,
     "start_time": "2024-05-01T17:26:16.636795",
     "status": "completed"
    },
    "tags": []
   },
   "outputs": [],
   "source": [
    "import pandas as pd\n",
    "import matplotlib.pyplot as plt\n",
    "import seaborn as sns\n",
    "from sklearn.model_selection import train_test_split\n",
    "from sklearn.linear_model import LogisticRegression\n",
    "from sklearn.metrics import accuracy_score, confusion_matrix, classification_report\n",
    "from sklearn.preprocessing import StandardScaler, MinMaxScaler\n"
   ]
  },
  {
   "cell_type": "code",
   "execution_count": 2,
   "id": "dd6dc31a",
   "metadata": {
    "execution": {
     "iopub.execute_input": "2024-05-01T17:26:20.319450Z",
     "iopub.status.busy": "2024-05-01T17:26:20.318865Z",
     "iopub.status.idle": "2024-05-01T17:26:20.359850Z",
     "shell.execute_reply": "2024-05-01T17:26:20.358836Z"
    },
    "papermill": {
     "duration": 0.053069,
     "end_time": "2024-05-01T17:26:20.363711",
     "exception": false,
     "start_time": "2024-05-01T17:26:20.310642",
     "status": "completed"
    },
    "tags": []
   },
   "outputs": [
    {
     "name": "stdout",
     "output_type": "stream",
     "text": [
      "   Survived  Pclass                                               Name  \\\n",
      "0         0       3                             Mr. Owen Harris Braund   \n",
      "1         1       1  Mrs. John Bradley (Florence Briggs Thayer) Cum...   \n",
      "2         1       3                              Miss. Laina Heikkinen   \n",
      "3         1       1        Mrs. Jacques Heath (Lily May Peel) Futrelle   \n",
      "4         0       3                            Mr. William Henry Allen   \n",
      "\n",
      "      Sex   Age  Siblings/Spouses Aboard  Parents/Children Aboard     Fare  \n",
      "0    male  22.0                        1                        0   7.2500  \n",
      "1  female  38.0                        1                        0  71.2833  \n",
      "2  female  26.0                        0                        0   7.9250  \n",
      "3  female  35.0                        1                        0  53.1000  \n",
      "4    male  35.0                        0                        0   8.0500  \n"
     ]
    }
   ],
   "source": [
    "# Define the path to the dataset\n",
    "file_path = '/kaggle/input/titanic/titanic.csv'\n",
    "\n",
    "# Load the dataset into a Pandas DataFrame\n",
    "df = pd.read_csv(file_path)\n",
    "\n",
    "# Display the first few rows of the DataFrame to confirm successful loading\n",
    "print(df.head())\n"
   ]
  },
  {
   "cell_type": "code",
   "execution_count": 3,
   "id": "db1ab489",
   "metadata": {
    "execution": {
     "iopub.execute_input": "2024-05-01T17:26:20.380373Z",
     "iopub.status.busy": "2024-05-01T17:26:20.379483Z",
     "iopub.status.idle": "2024-05-01T17:26:20.411240Z",
     "shell.execute_reply": "2024-05-01T17:26:20.409937Z"
    },
    "papermill": {
     "duration": 0.043879,
     "end_time": "2024-05-01T17:26:20.414375",
     "exception": false,
     "start_time": "2024-05-01T17:26:20.370496",
     "status": "completed"
    },
    "tags": []
   },
   "outputs": [
    {
     "name": "stdout",
     "output_type": "stream",
     "text": [
      "<class 'pandas.core.frame.DataFrame'>\n",
      "RangeIndex: 887 entries, 0 to 886\n",
      "Data columns (total 8 columns):\n",
      " #   Column                   Non-Null Count  Dtype  \n",
      "---  ------                   --------------  -----  \n",
      " 0   Survived                 887 non-null    int64  \n",
      " 1   Pclass                   887 non-null    int64  \n",
      " 2   Name                     887 non-null    object \n",
      " 3   Sex                      887 non-null    object \n",
      " 4   Age                      887 non-null    float64\n",
      " 5   Siblings/Spouses Aboard  887 non-null    int64  \n",
      " 6   Parents/Children Aboard  887 non-null    int64  \n",
      " 7   Fare                     887 non-null    float64\n",
      "dtypes: float64(2), int64(4), object(2)\n",
      "memory usage: 55.6+ KB\n"
     ]
    }
   ],
   "source": [
    "df.info()"
   ]
  },
  {
   "cell_type": "code",
   "execution_count": 4,
   "id": "c56b50e0",
   "metadata": {
    "execution": {
     "iopub.execute_input": "2024-05-01T17:26:20.432627Z",
     "iopub.status.busy": "2024-05-01T17:26:20.432020Z",
     "iopub.status.idle": "2024-05-01T17:26:20.478221Z",
     "shell.execute_reply": "2024-05-01T17:26:20.476725Z"
    },
    "papermill": {
     "duration": 0.059151,
     "end_time": "2024-05-01T17:26:20.481190",
     "exception": false,
     "start_time": "2024-05-01T17:26:20.422039",
     "status": "completed"
    },
    "tags": []
   },
   "outputs": [
    {
     "data": {
      "text/html": [
       "<div>\n",
       "<style scoped>\n",
       "    .dataframe tbody tr th:only-of-type {\n",
       "        vertical-align: middle;\n",
       "    }\n",
       "\n",
       "    .dataframe tbody tr th {\n",
       "        vertical-align: top;\n",
       "    }\n",
       "\n",
       "    .dataframe thead th {\n",
       "        text-align: right;\n",
       "    }\n",
       "</style>\n",
       "<table border=\"1\" class=\"dataframe\">\n",
       "  <thead>\n",
       "    <tr style=\"text-align: right;\">\n",
       "      <th></th>\n",
       "      <th>Survived</th>\n",
       "      <th>Pclass</th>\n",
       "      <th>Age</th>\n",
       "      <th>Siblings/Spouses Aboard</th>\n",
       "      <th>Parents/Children Aboard</th>\n",
       "      <th>Fare</th>\n",
       "    </tr>\n",
       "  </thead>\n",
       "  <tbody>\n",
       "    <tr>\n",
       "      <th>count</th>\n",
       "      <td>887.000000</td>\n",
       "      <td>887.000000</td>\n",
       "      <td>887.000000</td>\n",
       "      <td>887.000000</td>\n",
       "      <td>887.000000</td>\n",
       "      <td>887.00000</td>\n",
       "    </tr>\n",
       "    <tr>\n",
       "      <th>mean</th>\n",
       "      <td>0.385569</td>\n",
       "      <td>2.305524</td>\n",
       "      <td>29.471443</td>\n",
       "      <td>0.525366</td>\n",
       "      <td>0.383315</td>\n",
       "      <td>32.30542</td>\n",
       "    </tr>\n",
       "    <tr>\n",
       "      <th>std</th>\n",
       "      <td>0.487004</td>\n",
       "      <td>0.836662</td>\n",
       "      <td>14.121908</td>\n",
       "      <td>1.104669</td>\n",
       "      <td>0.807466</td>\n",
       "      <td>49.78204</td>\n",
       "    </tr>\n",
       "    <tr>\n",
       "      <th>min</th>\n",
       "      <td>0.000000</td>\n",
       "      <td>1.000000</td>\n",
       "      <td>0.420000</td>\n",
       "      <td>0.000000</td>\n",
       "      <td>0.000000</td>\n",
       "      <td>0.00000</td>\n",
       "    </tr>\n",
       "    <tr>\n",
       "      <th>25%</th>\n",
       "      <td>0.000000</td>\n",
       "      <td>2.000000</td>\n",
       "      <td>20.250000</td>\n",
       "      <td>0.000000</td>\n",
       "      <td>0.000000</td>\n",
       "      <td>7.92500</td>\n",
       "    </tr>\n",
       "    <tr>\n",
       "      <th>50%</th>\n",
       "      <td>0.000000</td>\n",
       "      <td>3.000000</td>\n",
       "      <td>28.000000</td>\n",
       "      <td>0.000000</td>\n",
       "      <td>0.000000</td>\n",
       "      <td>14.45420</td>\n",
       "    </tr>\n",
       "    <tr>\n",
       "      <th>75%</th>\n",
       "      <td>1.000000</td>\n",
       "      <td>3.000000</td>\n",
       "      <td>38.000000</td>\n",
       "      <td>1.000000</td>\n",
       "      <td>0.000000</td>\n",
       "      <td>31.13750</td>\n",
       "    </tr>\n",
       "    <tr>\n",
       "      <th>max</th>\n",
       "      <td>1.000000</td>\n",
       "      <td>3.000000</td>\n",
       "      <td>80.000000</td>\n",
       "      <td>8.000000</td>\n",
       "      <td>6.000000</td>\n",
       "      <td>512.32920</td>\n",
       "    </tr>\n",
       "  </tbody>\n",
       "</table>\n",
       "</div>"
      ],
      "text/plain": [
       "         Survived      Pclass         Age  Siblings/Spouses Aboard  \\\n",
       "count  887.000000  887.000000  887.000000               887.000000   \n",
       "mean     0.385569    2.305524   29.471443                 0.525366   \n",
       "std      0.487004    0.836662   14.121908                 1.104669   \n",
       "min      0.000000    1.000000    0.420000                 0.000000   \n",
       "25%      0.000000    2.000000   20.250000                 0.000000   \n",
       "50%      0.000000    3.000000   28.000000                 0.000000   \n",
       "75%      1.000000    3.000000   38.000000                 1.000000   \n",
       "max      1.000000    3.000000   80.000000                 8.000000   \n",
       "\n",
       "       Parents/Children Aboard       Fare  \n",
       "count               887.000000  887.00000  \n",
       "mean                  0.383315   32.30542  \n",
       "std                   0.807466   49.78204  \n",
       "min                   0.000000    0.00000  \n",
       "25%                   0.000000    7.92500  \n",
       "50%                   0.000000   14.45420  \n",
       "75%                   0.000000   31.13750  \n",
       "max                   6.000000  512.32920  "
      ]
     },
     "execution_count": 4,
     "metadata": {},
     "output_type": "execute_result"
    }
   ],
   "source": [
    "df.describe()"
   ]
  },
  {
   "cell_type": "markdown",
   "id": "a55c49d7",
   "metadata": {
    "papermill": {
     "duration": 0.008379,
     "end_time": "2024-05-01T17:26:20.497335",
     "exception": false,
     "start_time": "2024-05-01T17:26:20.488956",
     "status": "completed"
    },
    "tags": []
   },
   "source": [
    "# Columns Described:\n",
    "* Survived: Indicator if the passenger survived (1) or not (0).\n",
    "* Pclass: Passenger class (1 = First class, 2 = Second class, 3 = Third class).\n",
    "* Age: Age of the passengers.\n",
    "* Siblings/Spouses Aboard: Number of siblings or spouses aboard.\n",
    "* Parents/Children Aboard: Number of parents or children aboard.\n",
    "* Fare: Ticket fare paid by the passenger.\n",
    "\n",
    "# Statistical Summary Explained:\n",
    "1. Count (887):\n",
    "This indicates there are 887 entries in each column, providing a consistent dataset without missing values for these fields.\n",
    "\n",
    "1. Mean:\n",
    " Survived: About 38.56% of the passengers in this sample survived.\n",
    " Pclass: The average passenger class is about 2.31, suggesting a higher proportion of lower-class (second and third) passengers.\n",
    " Age: The average age is approximately 29.47 years.\n",
    " Siblings/Spouses Aboard: On average, passengers had about 0.53 siblings or spouses aboard.\n",
    " Parents/Children Aboard: On average, passengers had about 0.38 parents or children aboard.\n",
    " Fare: The average fare paid was about $32.31, which varies significantly given the high standard deviation.\n",
    "\n",
    "1. Standard Deviation (std):\n",
    "Indicates the variability in each column. Notably, the fare has a high standard deviation (49.78) compared to the mean, indicating a wide range of ticket prices.\n",
    "\n",
    "1. Minimum (min):\n",
    "Every minimum value aligns with possible lower bounds for each category, e.g., the youngest passenger was about 0.42 years old, and the minimum fare is $0.00, suggesting some passengers traveled for free.\n",
    "\n",
    "1. Percentiles (25%, 50%, 75%):\n",
    "These values give a better sense of the distribution of data:\n",
    "25%: 25% of passengers did not survive, were in second class, were younger than 20.25 years, and did not have siblings/spouses or parents/children aboard.\n",
    "50% (Median): Half of the passengers were in third class, were about 28 years old, and similarly did not have siblings/spouses or parents/children aboard. The median fare was about $14.45.\n",
    "75%: 75% of passengers were in third class, were under 38 years old, might have had one sibling/spouse aboard, and did not have parents/children aboard. The higher-end fare was around $31.14.\n",
    "\n",
    "1. Maximum (max):\n",
    "The maximum values indicate extremes in the dataset, such as the oldest passenger being 80 years old, one having 8 siblings/spouses aboard, and another having 6 parents/children aboard. The highest fare was $512.33.\n",
    "\n",
    "# Insights and Implications:\n",
    "This summary provides crucial insights for deeper analyses:\n",
    "\n",
    "* Survival Rates: Could be analyzed further by class, fare, or family aboard to find patterns.\n",
    "* Demographic Studies: Age and class distributions can inform discussions on demographics and socio-economic status.\n",
    "* Family Connections: High values for siblings/spouses and parents/children suggest some passengers were part of large families, impacting their survival strategy and experiences.\n",
    "* Fare Analysis: A deeper look into how fares correlate with survival and passenger class could reveal socio-economic dynamics affecting survival chances."
   ]
  },
  {
   "cell_type": "code",
   "execution_count": 5,
   "id": "d98ea305",
   "metadata": {
    "execution": {
     "iopub.execute_input": "2024-05-01T17:26:20.516062Z",
     "iopub.status.busy": "2024-05-01T17:26:20.515432Z",
     "iopub.status.idle": "2024-05-01T17:26:20.528554Z",
     "shell.execute_reply": "2024-05-01T17:26:20.527176Z"
    },
    "papermill": {
     "duration": 0.026243,
     "end_time": "2024-05-01T17:26:20.532031",
     "exception": false,
     "start_time": "2024-05-01T17:26:20.505788",
     "status": "completed"
    },
    "tags": []
   },
   "outputs": [
    {
     "data": {
      "text/plain": [
       "0      False\n",
       "1      False\n",
       "2      False\n",
       "3      False\n",
       "4      False\n",
       "       ...  \n",
       "882    False\n",
       "883    False\n",
       "884    False\n",
       "885    False\n",
       "886    False\n",
       "Length: 887, dtype: bool"
      ]
     },
     "execution_count": 5,
     "metadata": {},
     "output_type": "execute_result"
    }
   ],
   "source": [
    "df.duplicated()"
   ]
  },
  {
   "cell_type": "code",
   "execution_count": 6,
   "id": "eae04cf3",
   "metadata": {
    "execution": {
     "iopub.execute_input": "2024-05-01T17:26:20.554182Z",
     "iopub.status.busy": "2024-05-01T17:26:20.553090Z",
     "iopub.status.idle": "2024-05-01T17:26:20.571818Z",
     "shell.execute_reply": "2024-05-01T17:26:20.570454Z"
    },
    "papermill": {
     "duration": 0.032161,
     "end_time": "2024-05-01T17:26:20.574698",
     "exception": false,
     "start_time": "2024-05-01T17:26:20.542537",
     "status": "completed"
    },
    "tags": []
   },
   "outputs": [
    {
     "data": {
      "text/html": [
       "<div>\n",
       "<style scoped>\n",
       "    .dataframe tbody tr th:only-of-type {\n",
       "        vertical-align: middle;\n",
       "    }\n",
       "\n",
       "    .dataframe tbody tr th {\n",
       "        vertical-align: top;\n",
       "    }\n",
       "\n",
       "    .dataframe thead th {\n",
       "        text-align: right;\n",
       "    }\n",
       "</style>\n",
       "<table border=\"1\" class=\"dataframe\">\n",
       "  <thead>\n",
       "    <tr style=\"text-align: right;\">\n",
       "      <th></th>\n",
       "      <th>Survived</th>\n",
       "      <th>Pclass</th>\n",
       "      <th>Name</th>\n",
       "      <th>Sex</th>\n",
       "      <th>Age</th>\n",
       "      <th>Siblings/Spouses Aboard</th>\n",
       "      <th>Parents/Children Aboard</th>\n",
       "      <th>Fare</th>\n",
       "    </tr>\n",
       "  </thead>\n",
       "  <tbody>\n",
       "  </tbody>\n",
       "</table>\n",
       "</div>"
      ],
      "text/plain": [
       "Empty DataFrame\n",
       "Columns: [Survived, Pclass, Name, Sex, Age, Siblings/Spouses Aboard, Parents/Children Aboard, Fare]\n",
       "Index: []"
      ]
     },
     "execution_count": 6,
     "metadata": {},
     "output_type": "execute_result"
    }
   ],
   "source": [
    "df[df.duplicated(keep = False)]"
   ]
  },
  {
   "cell_type": "code",
   "execution_count": 7,
   "id": "08cc67d6",
   "metadata": {
    "execution": {
     "iopub.execute_input": "2024-05-01T17:26:20.592033Z",
     "iopub.status.busy": "2024-05-01T17:26:20.591566Z",
     "iopub.status.idle": "2024-05-01T17:26:20.599785Z",
     "shell.execute_reply": "2024-05-01T17:26:20.598500Z"
    },
    "papermill": {
     "duration": 0.02027,
     "end_time": "2024-05-01T17:26:20.602679",
     "exception": false,
     "start_time": "2024-05-01T17:26:20.582409",
     "status": "completed"
    },
    "tags": []
   },
   "outputs": [
    {
     "name": "stdout",
     "output_type": "stream",
     "text": [
      "Survived                   0\n",
      "Pclass                     0\n",
      "Name                       0\n",
      "Sex                        0\n",
      "Age                        0\n",
      "Siblings/Spouses Aboard    0\n",
      "Parents/Children Aboard    0\n",
      "Fare                       0\n",
      "dtype: int64\n"
     ]
    }
   ],
   "source": [
    "missing_values = df.isna().sum()\n",
    "print(missing_values)\n"
   ]
  },
  {
   "cell_type": "code",
   "execution_count": 8,
   "id": "34b89d0a",
   "metadata": {
    "execution": {
     "iopub.execute_input": "2024-05-01T17:26:20.620354Z",
     "iopub.status.busy": "2024-05-01T17:26:20.619892Z",
     "iopub.status.idle": "2024-05-01T17:26:21.195012Z",
     "shell.execute_reply": "2024-05-01T17:26:21.193957Z"
    },
    "papermill": {
     "duration": 0.587089,
     "end_time": "2024-05-01T17:26:21.197745",
     "exception": false,
     "start_time": "2024-05-01T17:26:20.610656",
     "status": "completed"
    },
    "tags": []
   },
   "outputs": [
    {
     "data": {
      "image/png": "[encoded data removed]",
      "text/plain": [
       "<Figure size 1000x800 with 2 Axes>"
      ]
     },
     "metadata": {},
     "output_type": "display_data"
    }
   ],
   "source": [
    "# Load the data from Power BI dataset\n",
    "df = pd.DataFrame({\n",
    "    'Age': df['Age'],\n",
    "    'Fare': df['Fare'],\n",
    "    'Survived': df['Survived'],\n",
    "    'Pclass': df['Pclass'],\n",
    "    'Siblings/Spouses Aboard': df['Siblings/Spouses Aboard'],\n",
    "    'Parents/Children Aboard': df['Parents/Children Aboard']\n",
    "})\n",
    "\n",
    "# Drop duplicates\n",
    "df = df.drop_duplicates()\n",
    "\n",
    "# Calculating correlation matrix\n",
    "corr = df.corr()\n",
    "\n",
    "# Plotting the heatmap\n",
    "plt.figure(figsize=(10, 8))\n",
    "sns.heatmap(corr, annot=True, fmt=\".2f\", cmap='coolwarm')\n",
    "plt.title('Correlation Between Features')\n",
    "plt.show()"
   ]
  },
  {
   "cell_type": "markdown",
   "id": "78351b3b",
   "metadata": {
    "papermill": {
     "duration": 0.009496,
     "end_time": "2024-05-01T17:26:21.217133",
     "exception": false,
     "start_time": "2024-05-01T17:26:21.207637",
     "status": "completed"
    },
    "tags": []
   },
   "source": []
  },
  {
   "cell_type": "markdown",
   "id": "8f237cb4",
   "metadata": {
    "papermill": {
     "duration": 0.011336,
     "end_time": "2024-05-01T17:26:21.238428",
     "exception": false,
     "start_time": "2024-05-01T17:26:21.227092",
     "status": "completed"
    },
    "tags": []
   },
   "source": [
    "1. Age and Pclass (-0.39): A moderate negative correlation suggests that younger passengers tend to be in lower (numerically higher) passenger classes (e.g., 3rd class).\n",
    "1. Fare and Pclass (-0.56): A strong negative correlation indicates that passengers in higher classes (numerically lower, e.g., 1st class) tend to pay higher fares. This is expected as higher classes generally offer better amenities and services.\n",
    "1. Survived and Pclass (-0.32): This moderate negative correlation suggests that passengers in higher classes had a higher survival rate. This might reflect that higher class passengers had better access to lifeboats or other survival resources during the disaster.\n",
    "1. Survived and Fare (0.24): A positive correlation indicates that passengers who paid higher fares had slightly higher survival rates, which might correlate with higher class or better access to emergency resources.\n",
    "1. Siblings/Spouses Aboard and Parents/Children Aboard (0.41): This positive correlation shows that passengers with siblings or spouses on board also tended to have parents or children aboard. This might reflect families traveling together.\n",
    "1. Age and Siblings/Spouses Aboard (-0.31), Age and Parents/Children Aboard (-0.21): These negative correlations suggest that older passengers were less likely to have either siblings/spouses or parents/children aboard, possibly reflecting older individuals traveling alone or with a spouse rather than as part of larger family units.\n"
   ]
  },
  {
   "cell_type": "code",
   "execution_count": 9,
   "id": "a8e00d1b",
   "metadata": {
    "execution": {
     "iopub.execute_input": "2024-05-01T17:26:21.260824Z",
     "iopub.status.busy": "2024-05-01T17:26:21.260219Z",
     "iopub.status.idle": "2024-05-01T17:26:21.268264Z",
     "shell.execute_reply": "2024-05-01T17:26:21.266390Z"
    },
    "papermill": {
     "duration": 0.024079,
     "end_time": "2024-05-01T17:26:21.272333",
     "exception": false,
     "start_time": "2024-05-01T17:26:21.248254",
     "status": "completed"
    },
    "tags": []
   },
   "outputs": [
    {
     "name": "stdout",
     "output_type": "stream",
     "text": [
      "Index(['Age', 'Fare', 'Survived', 'Pclass', 'Siblings/Spouses Aboard',\n",
      "       'Parents/Children Aboard'],\n",
      "      dtype='object')\n"
     ]
    }
   ],
   "source": [
    "print(df.columns)\n"
   ]
  },
  {
   "cell_type": "markdown",
   "id": "040573ea",
   "metadata": {
    "papermill": {
     "duration": 0.010773,
     "end_time": "2024-05-01T17:26:21.293366",
     "exception": false,
     "start_time": "2024-05-01T17:26:21.282593",
     "status": "completed"
    },
    "tags": []
   },
   "source": [
    "# To normalize and apply Min-Max scaling to the Age and Fare columns"
   ]
  },
  {
   "cell_type": "markdown",
   "id": "0ac6190e",
   "metadata": {
    "papermill": {
     "duration": 0.009805,
     "end_time": "2024-05-01T17:26:21.313149",
     "exception": false,
     "start_time": "2024-05-01T17:26:21.303344",
     "status": "completed"
    },
    "tags": []
   },
   "source": [
    "## Apply StandardScaler (Normalization)"
   ]
  },
  {
   "cell_type": "code",
   "execution_count": 10,
   "id": "d1fdd1be",
   "metadata": {
    "execution": {
     "iopub.execute_input": "2024-05-01T17:26:21.334173Z",
     "iopub.status.busy": "2024-05-01T17:26:21.333764Z",
     "iopub.status.idle": "2024-05-01T17:26:21.345362Z",
     "shell.execute_reply": "2024-05-01T17:26:21.343987Z"
    },
    "papermill": {
     "duration": 0.025638,
     "end_time": "2024-05-01T17:26:21.348651",
     "exception": false,
     "start_time": "2024-05-01T17:26:21.323013",
     "status": "completed"
    },
    "tags": []
   },
   "outputs": [],
   "source": [
    "# Initialize the StandardScaler\n",
    "scaler = StandardScaler()\n",
    "\n",
    "# Fit and transform the 'Age' and 'Fare' columns\n",
    "df[['Age', 'Fare']] = scaler.fit_transform(df[['Age', 'Fare']])\n"
   ]
  },
  {
   "cell_type": "markdown",
   "id": "2bacb9ff",
   "metadata": {
    "papermill": {
     "duration": 0.009241,
     "end_time": "2024-05-01T17:26:21.367946",
     "exception": false,
     "start_time": "2024-05-01T17:26:21.358705",
     "status": "completed"
    },
    "tags": []
   },
   "source": [
    "## Apply MinMaxScaler"
   ]
  },
  {
   "cell_type": "code",
   "execution_count": 11,
   "id": "e328db82",
   "metadata": {
    "execution": {
     "iopub.execute_input": "2024-05-01T17:26:21.388677Z",
     "iopub.status.busy": "2024-05-01T17:26:21.388217Z",
     "iopub.status.idle": "2024-05-01T17:26:21.401121Z",
     "shell.execute_reply": "2024-05-01T17:26:21.399779Z"
    },
    "papermill": {
     "duration": 0.026496,
     "end_time": "2024-05-01T17:26:21.403818",
     "exception": false,
     "start_time": "2024-05-01T17:26:21.377322",
     "status": "completed"
    },
    "tags": []
   },
   "outputs": [],
   "source": [
    "# Initialize the MinMaxScaler\n",
    "min_max_scaler = MinMaxScaler()\n",
    "\n",
    "# Fit and transform the 'Age' and 'Fare' columns\n",
    "df[['Age', 'Fare']] = min_max_scaler.fit_transform(df[['Age', 'Fare']])\n"
   ]
  },
  {
   "cell_type": "markdown",
   "id": "dd3373dd",
   "metadata": {
    "papermill": {
     "duration": 0.009512,
     "end_time": "2024-05-01T17:26:21.423010",
     "exception": false,
     "start_time": "2024-05-01T17:26:21.413498",
     "status": "completed"
    },
    "tags": []
   },
   "source": [
    "## Check the Transformed Data"
   ]
  },
  {
   "cell_type": "code",
   "execution_count": 12,
   "id": "f2c6bb56",
   "metadata": {
    "execution": {
     "iopub.execute_input": "2024-05-01T17:26:21.444057Z",
     "iopub.status.busy": "2024-05-01T17:26:21.443622Z",
     "iopub.status.idle": "2024-05-01T17:26:21.454090Z",
     "shell.execute_reply": "2024-05-01T17:26:21.452543Z"
    },
    "papermill": {
     "duration": 0.024722,
     "end_time": "2024-05-01T17:26:21.457363",
     "exception": false,
     "start_time": "2024-05-01T17:26:21.432641",
     "status": "completed"
    },
    "tags": []
   },
   "outputs": [
    {
     "name": "stdout",
     "output_type": "stream",
     "text": [
      "        Age      Fare\n",
      "0  0.271174  0.014151\n",
      "1  0.472229  0.139136\n",
      "2  0.321438  0.015469\n",
      "3  0.434531  0.103644\n",
      "4  0.434531  0.015713\n"
     ]
    }
   ],
   "source": [
    "print(df[['Age', 'Fare']].head())\n"
   ]
  },
  {
   "cell_type": "markdown",
   "id": "5a86e385",
   "metadata": {
    "papermill": {
     "duration": 0.009271,
     "end_time": "2024-05-01T17:26:21.476338",
     "exception": false,
     "start_time": "2024-05-01T17:26:21.467067",
     "status": "completed"
    },
    "tags": []
   },
   "source": []
  },
  {
   "cell_type": "markdown",
   "id": "2949b988",
   "metadata": {
    "papermill": {
     "duration": 0.010026,
     "end_time": "2024-05-01T17:26:21.496472",
     "exception": false,
     "start_time": "2024-05-01T17:26:21.486446",
     "status": "completed"
    },
    "tags": []
   },
   "source": [
    "# Basic logistic regression model using Python's scikit-learn library"
   ]
  },
  {
   "cell_type": "code",
   "execution_count": 13,
   "id": "c39ada04",
   "metadata": {
    "execution": {
     "iopub.execute_input": "2024-05-01T17:26:21.519843Z",
     "iopub.status.busy": "2024-05-01T17:26:21.519346Z",
     "iopub.status.idle": "2024-05-01T17:26:21.592220Z",
     "shell.execute_reply": "2024-05-01T17:26:21.590904Z"
    },
    "papermill": {
     "duration": 0.088179,
     "end_time": "2024-05-01T17:26:21.595041",
     "exception": false,
     "start_time": "2024-05-01T17:26:21.506862",
     "status": "completed"
    },
    "tags": []
   },
   "outputs": [
    {
     "name": "stdout",
     "output_type": "stream",
     "text": [
      "Accuracy: 0.7528089887640449\n",
      "Confusion Matrix:\n",
      " [[97 14]\n",
      " [30 37]]\n",
      "Classification Report:\n",
      "               precision    recall  f1-score   support\n",
      "\n",
      "           0       0.76      0.87      0.82       111\n",
      "           1       0.73      0.55      0.63        67\n",
      "\n",
      "    accuracy                           0.75       178\n",
      "   macro avg       0.74      0.71      0.72       178\n",
      "weighted avg       0.75      0.75      0.74       178\n",
      "\n"
     ]
    }
   ],
   "source": [
    "import pandas as pd\n",
    "from sklearn.model_selection import train_test_split\n",
    "from sklearn.linear_model import LogisticRegression\n",
    "from sklearn.metrics import accuracy_score, confusion_matrix, classification_report\n",
    "\n",
    "# Load the dataset\n",
    "df = pd.read_csv('/kaggle/input/titanic/titanic.csv')\n",
    "\n",
    "# Handle missing values\n",
    "df['Age'] = df['Age'].fillna(df['Age'].median())\n",
    "\n",
    "# Convert categorical variable 'Sex' to dummy variables\n",
    "df = pd.get_dummies(df, columns=['Sex'], drop_first=True)\n",
    "\n",
    "# Define the feature matrix and target vector\n",
    "feature_cols = ['Age', 'Siblings/Spouses Aboard', 'Parents/Children Aboard', 'Fare', 'Sex_male', 'Pclass']\n",
    "X = df[feature_cols]\n",
    "y = df['Survived']\n",
    "\n",
    "# Split the data into training and testing sets\n",
    "X_train, X_test, y_train, y_test = train_test_split(X, y, test_size=0.2, random_state=42)\n",
    "\n",
    "# Build and train the model\n",
    "model = LogisticRegression(max_iter=400)  # Increased max_iter for convergence if needed\n",
    "model.fit(X_train, y_train)\n",
    "\n",
    "# Evaluate the model\n",
    "y_pred = model.predict(X_test)\n",
    "accuracy = accuracy_score(y_test, y_pred)\n",
    "print(\"Accuracy:\", accuracy)\n",
    "print(\"Confusion Matrix:\\n\", confusion_matrix(y_test, y_pred))\n",
    "print(\"Classification Report:\\n\", classification_report(y_test, y_pred))\n"
   ]
  }
 ],
 "metadata": {
  "kaggle": {
   "accelerator": "none",
   "dataSources": [
    {
     "datasetId": 4919417,
     "sourceId": 8283023,
     "sourceType": "datasetVersion"
    }
   ],
   "dockerImageVersionId": 30698,
   "isGpuEnabled": false,
   "isInternetEnabled": true,
   "language": "python",
   "sourceType": "notebook"
  },
  "kernelspec": {
   "display_name": "Python 3",
   "language": "python",
   "name": "python3"
  },
  "language_info": {
   "codemirror_mode": {
    "name": "ipython",
    "version": 3
   },
   "file_extension": ".py",
   "mimetype": "text/x-python",
   "name": "python",
   "nbconvert_exporter": "python",
   "pygments_lexer": "ipython3",
   "version": "3.10.13"
  },
  "papermill": {
   "default_parameters": {},
   "duration": 9.644459,
   "end_time": "2024-05-01T17:26:22.327314",
   "environment_variables": {},
   "exception": null,
   "input_path": "__notebook__.ipynb",
   "output_path": "__notebook__.ipynb",
   "parameters": {},
   "start_time": "2024-05-01T17:26:12.682855",
   "version": "2.5.0"
  }
 },
 "nbformat": 4,
 "nbformat_minor": 5
}
